{
 "cells": [
  {
   "cell_type": "code",
   "execution_count": 1,
   "id": "76ecfa1c",
   "metadata": {},
   "outputs": [
    {
     "data": {
      "text/plain": [
       "'h   r tnrrmglsnimeNGyosi dtfco'"
      ]
     },
     "execution_count": 1,
     "metadata": {},
     "output_type": "execute_result"
    }
   ],
   "source": [
    "s = \"this is My First Python programming class and i am learNING python string and its function\"\n",
    "\n",
    "# 1 . Try to extract data from index one to index 300 with a jump of 3 \n",
    "\n",
    "s[1:300:3]\n"
   ]
  },
  {
   "cell_type": "code",
   "execution_count": 2,
   "id": "9127fae3",
   "metadata": {},
   "outputs": [
    {
     "data": {
      "text/plain": [
       "'noitcnuf sti dna gnirts nohtyp GNINrael ma i dna ssalc gnimmargorp nohtyP tsriF yM si siht'"
      ]
     },
     "execution_count": 2,
     "metadata": {},
     "output_type": "execute_result"
    }
   ],
   "source": [
    "#2. Try to reverse a string without using reverse function \n",
    "s[::-1]"
   ]
  },
  {
   "cell_type": "code",
   "execution_count": 3,
   "id": "9fc559a1",
   "metadata": {},
   "outputs": [
    {
     "data": {
      "text/plain": [
       "['THIS',\n",
       " 'IS',\n",
       " 'MY',\n",
       " 'FIRST',\n",
       " 'PYTHON',\n",
       " 'PROGRAMMING',\n",
       " 'CLASS',\n",
       " 'AND',\n",
       " 'I',\n",
       " 'AM',\n",
       " 'LEARNING',\n",
       " 'PYTHON',\n",
       " 'STRING',\n",
       " 'AND',\n",
       " 'ITS',\n",
       " 'FUNCTION']"
      ]
     },
     "execution_count": 3,
     "metadata": {},
     "output_type": "execute_result"
    }
   ],
   "source": [
    "#3. Try to split a string after conversion of entire string in uppercase \n",
    "s.upper().split(\" \")"
   ]
  },
  {
   "cell_type": "code",
   "execution_count": 4,
   "id": "62082189",
   "metadata": {},
   "outputs": [
    {
     "data": {
      "text/plain": [
       "'this is my first python programming class and i am learning python string and its function'"
      ]
     },
     "execution_count": 4,
     "metadata": {},
     "output_type": "execute_result"
    }
   ],
   "source": [
    "#4. try to convert the whole string into lower case \n",
    "s.lower()"
   ]
  },
  {
   "cell_type": "code",
   "execution_count": 5,
   "id": "27cec841",
   "metadata": {},
   "outputs": [
    {
     "data": {
      "text/plain": [
       "'This is my first python programming class and i am learning python string and its function'"
      ]
     },
     "execution_count": 5,
     "metadata": {},
     "output_type": "execute_result"
    }
   ],
   "source": [
    "#5 . Try to capitalize the whole string \n",
    "s.capitalize()"
   ]
  },
  {
   "cell_type": "code",
   "execution_count": null,
   "id": "e3892caa",
   "metadata": {},
   "outputs": [],
   "source": [
    "#6. Write a diference between isalnum() and isalpha()\n",
    "\n",
    "# isalnum() - function returns True if the string contains alphabets or numeric, otherwise returns False.\n",
    "# isalpha() - function returns True if the string contains only alphabets, otherwise returns False.\n"
   ]
  },
  {
   "cell_type": "code",
   "execution_count": 8,
   "id": "8b90e2df",
   "metadata": {},
   "outputs": [
    {
     "data": {
      "text/plain": [
       "'This    is      my      first   python  program'"
      ]
     },
     "execution_count": 8,
     "metadata": {},
     "output_type": "execute_result"
    }
   ],
   "source": [
    "#7. Try to give an example of expand tab\n",
    "\n",
    "s1=\"This\\tis\\tmy\\tfirst\\tpython\\tprogram\"\n",
    "s1.expandtabs()"
   ]
  },
  {
   "cell_type": "code",
   "execution_count": 9,
   "id": "c2d07d2f",
   "metadata": {},
   "outputs": [
    {
     "data": {
      "text/plain": [
       "'CenterText'"
      ]
     },
     "execution_count": 9,
     "metadata": {},
     "output_type": "execute_result"
    }
   ],
   "source": [
    "#8 . Give an example of strip , lstrip and rstrip \n",
    "\n",
    "s2 = \"   CenterText   \"\n",
    "# Example for strip() where both leading and trailing whitespace of the string is removed.\n",
    "s2.strip()"
   ]
  },
  {
   "cell_type": "code",
   "execution_count": 10,
   "id": "5853dda1",
   "metadata": {},
   "outputs": [
    {
     "data": {
      "text/plain": [
       "'CenterText   '"
      ]
     },
     "execution_count": 10,
     "metadata": {},
     "output_type": "execute_result"
    }
   ],
   "source": [
    "# Eg. for lstrip() where only whitespace from the beginning of the string is removed.  \n",
    "s2.lstrip()"
   ]
  },
  {
   "cell_type": "code",
   "execution_count": 11,
   "id": "52112649",
   "metadata": {},
   "outputs": [
    {
     "data": {
      "text/plain": [
       "'   CenterText'"
      ]
     },
     "execution_count": 11,
     "metadata": {},
     "output_type": "execute_result"
    }
   ],
   "source": [
    "# Eg for rstrip() where only trailing whitespace of the string is removed.  \n",
    "s2.rstrip()"
   ]
  },
  {
   "cell_type": "code",
   "execution_count": 13,
   "id": "66881127",
   "metadata": {},
   "outputs": [
    {
     "data": {
      "text/plain": [
       "'This is an aineaaale'"
      ]
     },
     "execution_count": 13,
     "metadata": {},
     "output_type": "execute_result"
    }
   ],
   "source": [
    "#9.  Replace a string charecter by another charector by taking your own example \n",
    "s3 =\"This is an pineapple\"\n",
    "s3.replace('p','a')"
   ]
  },
  {
   "cell_type": "code",
   "execution_count": 18,
   "id": "83def32d",
   "metadata": {},
   "outputs": [
    {
     "data": {
      "text/plain": [
       "'######Caution#######'"
      ]
     },
     "execution_count": 18,
     "metadata": {},
     "output_type": "execute_result"
    }
   ],
   "source": [
    "#10 . Try  to give a defination of string center function with and exmple \n",
    "\n",
    "# center(totalLength, filler) function -  Centers given string by making it of total length specified (i.e,totalLength)\n",
    "# and filling leading and trailing positions of the string with specified filler (i.e,filler).\n",
    "\n",
    "# eg.\n",
    "s4 = \"Caution\"\n",
    "s4.center(20,'#')\n",
    "\n",
    "# Here, string s4 is centered by making it of total length 20 by filling \"#\" in leading and trailing positions "
   ]
  },
  {
   "cell_type": "code",
   "execution_count": null,
   "id": "e5ba2a12",
   "metadata": {},
   "outputs": [],
   "source": [
    "#  11 . Write your own definition of compiler and interpretor without copy paste form internet in your own language\n",
    "\n",
    "# Compiler and interpreters are translators whichconvert high level languageprogram to low level language.\n",
    "# Compiler compiles the entire program and shows the errors of whole program.Since it can see the entire program,optimization of code is done better.\n",
    "# Program can be executed only if all the errors are rectified.Machine language code is stored in the memory and can be executed independently. compiler is not kept in the memory after compilation. \n",
    "\n",
    "# Interpreter translates line by line and shows errors if any. The reported error should be corrected first then only interpreter translates next line of code.\n",
    "# Interpreter is slow when compared to compiler.Execution is a part of interpreting process.Execution is done line by line along with translation.\n",
    "# Interpreter is stored in the memory during execution. Optimization done is not better when compared to compiler. Machine language code is not saved in the memory and need to translate during each individual execution.\n",
    "\n",
    "\n"
   ]
  },
  {
   "cell_type": "code",
   "execution_count": 20,
   "id": "3e170d59",
   "metadata": {},
   "outputs": [],
   "source": [
    "#12 . Python is a interpreted or compiled language give a clear ans with your understanding \n",
    "\n",
    "# Both. Python is a compiled interpreted language.It first compiles the high level language into intermediate byte code. Byte code is stored into memory. \n",
    "# Interpreter then converts it line by line into machine code. Since it is converted to bytecode, it becomes platform independent."
   ]
  },
  {
   "cell_type": "code",
   "execution_count": null,
   "id": "5916da38",
   "metadata": {},
   "outputs": [],
   "source": [
    "#13 . Try to write a usecase of python with your understanding.\n",
    "\n",
    "#Pythons use in data science\n",
    "# In data science, data needs to be extracted,processed and manipulated. Python has library function required for it such as SciPy,NumPy, Panda etc.\n",
    "# and Python is easy to use. So,it is widely used in data science."
   ]
  }
 ],
 "metadata": {
  "kernelspec": {
   "display_name": "Python 3 (ipykernel)",
   "language": "python",
   "name": "python3"
  },
  "language_info": {
   "codemirror_mode": {
    "name": "ipython",
    "version": 3
   },
   "file_extension": ".py",
   "mimetype": "text/x-python",
   "name": "python",
   "nbconvert_exporter": "python",
   "pygments_lexer": "ipython3",
   "version": "3.9.7"
  }
 },
 "nbformat": 4,
 "nbformat_minor": 5
}
